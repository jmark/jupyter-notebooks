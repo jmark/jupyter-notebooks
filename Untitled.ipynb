{
 "cells": [
  {
   "cell_type": "code",
   "execution_count": 2,
   "metadata": {},
   "outputs": [],
   "source": [
    "import sys\n",
    "import os\n",
    "home = os.environ['HOME']\n",
    "sys.path.append(home + '/projects/turbubox/tools/lib')\n",
    "sys.path.append(home + '/projects/turbubox/tools')\n",
    "\n",
    "import numpy as np\n",
    "import pandas as pd\n",
    "import glob\n",
    "import cubicle\n",
    "import turbubox.ulz as ulz\n",
    "import gausslobatto\n",
    "\n",
    "import matplotlib\n",
    "matplotlib.rcParams.update({'font.size': 9})\n",
    "\n",
    "import matplotlib.pyplot as plt\n",
    "%matplotlib inline"
   ]
  },
  {
   "cell_type": "code",
   "execution_count": 5,
   "metadata": {},
   "outputs": [
    {
     "data": {
      "text/plain": [
       "(array([-0.96028986, -0.79666648, -0.52553241, -0.18343464,  0.18343464,\n",
       "         0.52553241,  0.79666648,  0.96028986]),\n",
       " array([0.10122854, 0.22238103, 0.31370665, 0.36268378, 0.36268378,\n",
       "        0.31370665, 0.22238103, 0.10122854]))"
      ]
     },
     "execution_count": 5,
     "metadata": {},
     "output_type": "execute_result"
    }
   ],
   "source": [
    "gausslobatto.LegendreGaussNodesAndWeights(7)"
   ]
  },
  {
   "cell_type": "code",
   "execution_count": 6,
   "metadata": {},
   "outputs": [
    {
     "data": {
      "text/plain": [
       "(array([-1.        , -0.87174015, -0.59170018, -0.20929922,  0.20929922,\n",
       "         0.59170018,  0.87174015,  1.        ]),\n",
       " array([0.03571429, 0.21070423, 0.34112269, 0.41245879, 0.41245879,\n",
       "        0.34112269, 0.21070423, 0.03571429]))"
      ]
     },
     "execution_count": 6,
     "metadata": {},
     "output_type": "execute_result"
    }
   ],
   "source": [
    "gausslobatto.LegendreGaussLobattoNodesAndWeights(7)"
   ]
  },
  {
   "cell_type": "code",
   "execution_count": 19,
   "metadata": {
    "collapsed": true
   },
   "outputs": [],
   "source": [
    "#fp = '/mnt/sshfs/supermuc2/gss/scratch/pr62su/ri97lab8/StirTurb_CGM_dense5_512/StirTurb_hdf5_plt_cnt_0013'\n",
    "fp = '/home/jmark/Downloads/StirTurb_hdf5_plt_cnt_0013'\n",
    "fh = cubicle.File(fp)"
   ]
  },
  {
   "cell_type": "code",
   "execution_count": 3,
   "metadata": {
    "collapsed": true
   },
   "outputs": [],
   "source": [
    "self = fh"
   ]
  },
  {
   "cell_type": "code",
   "execution_count": 38,
   "metadata": {
    "collapsed": true
   },
   "outputs": [],
   "source": [
    "coords = (i for (i,x) in enumerate(self.refine_levels) if x == self.maxrefinelevel)"
   ]
  },
  {
   "cell_type": "code",
   "execution_count": 21,
   "metadata": {
    "collapsed": true
   },
   "outputs": [],
   "source": [
    "gridsize  = self.gridsize\n",
    "domsize   = self.domainsize\n",
    "offset    = -(self.domain[0])\n",
    "blksize   = self.blocksize\n",
    "\n",
    "coo2pos = lambda co: np.round((co+offset)/domsize * gridsize).astype(np.int)\n",
    "pos2idx = lambda ps: np.array((ps-blksize//2,ps+blksize//2)).transpose()\n",
    "coo2idx = lambda co: pos2idx(coo2pos(co))"
   ]
  },
  {
   "cell_type": "code",
   "execution_count": 22,
   "metadata": {},
   "outputs": [
    {
     "data": {
      "text/plain": [
       "array([512, 512, 512])"
      ]
     },
     "execution_count": 22,
     "metadata": {},
     "output_type": "execute_result"
    }
   ],
   "source": [
    "gridsize"
   ]
  },
  {
   "cell_type": "code",
   "execution_count": 59,
   "metadata": {},
   "outputs": [
    {
     "data": {
      "text/plain": [
       "8"
      ]
     },
     "execution_count": 59,
     "metadata": {},
     "output_type": "execute_result"
    }
   ],
   "source": [
    "len(list(rl for rl in self.refine_levels if rl == 2))"
   ]
  },
  {
   "cell_type": "code",
   "execution_count": 23,
   "metadata": {
    "collapsed": true
   },
   "outputs": [],
   "source": [
    "dname = 'dens'"
   ]
  },
  {
   "cell_type": "code",
   "execution_count": 24,
   "metadata": {
    "collapsed": true
   },
   "outputs": [],
   "source": [
    "coPbl = ((coo2idx(co),bl) for (rl,co,bl) \n",
    "         in zip(self.refine_levels, self.get('coordinates'), self.get(dname))\n",
    "         if rl == self.maxrefinelevel)"
   ]
  },
  {
   "cell_type": "code",
   "execution_count": 25,
   "metadata": {
    "collapsed": true
   },
   "outputs": [],
   "source": [
    "box = np.zeros(gridsize)\n",
    "for idx,block in coPbl:\n",
    "    #I[I[:,1] < 1,1] = 1 # consider <3D case\n",
    "    box[[slice(*i) for i in idx]] = block.transpose((2,1,0))"
   ]
  },
  {
   "cell_type": "code",
   "execution_count": 26,
   "metadata": {},
   "outputs": [
    {
     "data": {
      "text/plain": [
       "(512, 512, 512)"
      ]
     },
     "execution_count": 26,
     "metadata": {},
     "output_type": "execute_result"
    }
   ],
   "source": [
    "box.shape"
   ]
  },
  {
   "cell_type": "code",
   "execution_count": 27,
   "metadata": {},
   "outputs": [
    {
     "data": {
      "text/plain": [
       "array([1, 2, 3, 4, 5, 6, 7], dtype=int32)"
      ]
     },
     "execution_count": 27,
     "metadata": {},
     "output_type": "execute_result"
    }
   ],
   "source": [
    "np.unique(fh.refine_levels)"
   ]
  },
  {
   "cell_type": "code",
   "execution_count": null,
   "metadata": {
    "collapsed": true
   },
   "outputs": [],
   "source": [
    "plt.title('density')\n",
    "plt.imshow(\n",
    "    np.log10(np.sum(pres,axis=2)),\n",
    "    #extent = extent,\n",
    "    #vmin = 0.0,\n",
    "    #vmax = 1.2,\n",
    "    origin='lower',\n",
    "    interpolation = None,\n",
    "    cmap = plt.get_cmap('cubehelix'),\n",
    ")\n",
    "plt.colorbar()"
   ]
  },
  {
   "cell_type": "markdown",
   "metadata": {},
   "source": [
    "# multiple refinement levels"
   ]
  },
  {
   "cell_type": "code",
   "execution_count": 29,
   "metadata": {
    "collapsed": true
   },
   "outputs": [],
   "source": [
    "calc_gridsize = lambda rlevel: np.array([\n",
    "            self.integerruntime[N] * self.integerscalars[n]*2**(rlevel-1) \n",
    "                for N,n in zip('nblockx nblocky nblockz'.split(), 'nxb nyb nzb'.split())]).astype(np.int)"
   ]
  },
  {
   "cell_type": "code",
   "execution_count": 40,
   "metadata": {},
   "outputs": [
    {
     "data": {
      "text/plain": [
       "(array([  942,   943,   944, ..., 53513, 53514, 53515]),)"
      ]
     },
     "execution_count": 40,
     "metadata": {},
     "output_type": "execute_result"
    }
   ],
   "source": [
    "np.where(self.refine_levels == 7)"
   ]
  },
  {
   "cell_type": "code",
   "execution_count": 37,
   "metadata": {},
   "outputs": [
    {
     "ename": "IndexError",
     "evalue": "boolean index did not match indexed array along dimension 0; dimension is 7 but corresponding boolean dimension is 54265",
     "output_type": "error",
     "traceback": [
      "\u001b[0;31m---------------------------------------------------------------------------\u001b[0m",
      "\u001b[0;31mIndexError\u001b[0m                                Traceback (most recent call last)",
      "\u001b[0;32m<ipython-input-37-610ecc0d7ccd>\u001b[0m in \u001b[0;36m<module>\u001b[0;34m()\u001b[0m\n\u001b[0;32m----> 1\u001b[0;31m \u001b[0mnp\u001b[0m\u001b[0;34m.\u001b[0m\u001b[0marange\u001b[0m\u001b[0;34m(\u001b[0m\u001b[0;36m1\u001b[0m\u001b[0;34m,\u001b[0m\u001b[0mself\u001b[0m\u001b[0;34m.\u001b[0m\u001b[0mmaxrefinelevel\u001b[0m\u001b[0;34m+\u001b[0m\u001b[0;36m1\u001b[0m\u001b[0;34m)\u001b[0m\u001b[0;34m[\u001b[0m\u001b[0mself\u001b[0m\u001b[0;34m.\u001b[0m\u001b[0mrefine_levels\u001b[0m \u001b[0;34m==\u001b[0m \u001b[0;36m2\u001b[0m\u001b[0;34m]\u001b[0m\u001b[0;34m\u001b[0m\u001b[0m\n\u001b[0m",
      "\u001b[0;31mIndexError\u001b[0m: boolean index did not match indexed array along dimension 0; dimension is 7 but corresponding boolean dimension is 54265"
     ]
    }
   ],
   "source": [
    "np.arange(1,self.maxrefinelevel+1)[self.refine_levels == 2]"
   ]
  },
  {
   "cell_type": "code",
   "execution_count": 49,
   "metadata": {
    "collapsed": true
   },
   "outputs": [],
   "source": [
    "self = fh"
   ]
  },
  {
   "cell_type": "code",
   "execution_count": 73,
   "metadata": {
    "collapsed": true
   },
   "outputs": [],
   "source": [
    "pos2idx = lambda ps: np.array((ps-self.blocksize//2,ps+self.blocksize//2))\n",
    "coo2idx = lambda co: pos2idx(np.round((co-self.domain[0])/self.domsize*np.array(box.shape)).astype(np.int))"
   ]
  },
  {
   "cell_type": "code",
   "execution_count": 54,
   "metadata": {},
   "outputs": [
    {
     "data": {
      "text/plain": [
       "array([False, False, False, ..., False, False, False], dtype=bool)"
      ]
     },
     "execution_count": 54,
     "metadata": {},
     "output_type": "execute_result"
    }
   ],
   "source": [
    "rl = 2\n",
    "box = np.zeros(self.calc_gridsize(rl)) if box is None else ulz.zoom_array(box, factor=2)\n",
    "idxs = np.where(fh.refine_levels == rl)[0]\n",
    "(fh.refine_levels == rl).repeat(3)"
   ]
  },
  {
   "cell_type": "code",
   "execution_count": 126,
   "metadata": {},
   "outputs": [
    {
     "data": {
      "text/plain": [
       "{'cfl': 0.5,\n",
       " 'ch_abundc': 0.00013999999999999999,\n",
       " 'ch_abundd': 2.5999999999999998e-05,\n",
       " 'ch_abundhe': 0.10000000000000001,\n",
       " 'ch_abundm': 9.9999999999999995e-08,\n",
       " 'ch_abundn': 0.0,\n",
       " 'ch_abundo': 0.00032000000000000003,\n",
       " 'ch_abundsi': 0.0,\n",
       " 'ch_av_conversion_factor': 5.3479999999999999e-22,\n",
       " 'ch_cosmic_ray_ion_rate': 9.9999999999999995e-21,\n",
       " 'ch_deff': 1.0,\n",
       " 'ch_dust_to_gas_ratio': 1.0,\n",
       " 'ch_f_rsc': 1.0,\n",
       " 'ch_g0': 1.7,\n",
       " 'ch_h2_form_ex': 0.0,\n",
       " 'ch_h2_form_kin': 0.0,\n",
       " 'ch_nh_ext': 10000000000.0,\n",
       " 'ch_phi_pah': 0.5,\n",
       " 'ch_redshift': 0.0,\n",
       " 'ch_tdust': 1000.0,\n",
       " 'ch_xray_scaling': 1.0,\n",
       " 'ch_z_atom': 0.29999999999999999,\n",
       " 'checkpointfileintervaltime': 315500000000000.0,\n",
       " 'checkpointfileintervalz': 1.7976931348623157e+308,\n",
       " 'derefine_cutoff_1': 0.20000000000000001,\n",
       " 'derefine_cutoff_2': 0.20000000000000001,\n",
       " 'derefine_cutoff_3': 0.20000000000000001,\n",
       " 'derefine_cutoff_4': 0.20000000000000001,\n",
       " 'dr_tstepslowstartfactor': 0.10000000000000001,\n",
       " 'dtinit': 10000000000.0,\n",
       " 'dtmax': 500000000000.0,\n",
       " 'dtmin': 10000000000.0,\n",
       " 'eintswitch': 0.0001,\n",
       " 'eos_singlespeciesa': 1.0,\n",
       " 'eos_singlespeciesz': 1.0,\n",
       " 'gamma': 1.6667000000000001,\n",
       " 'gamma_ambient': 1.667,\n",
       " 'gr_bhmaxblkweight': 10.0,\n",
       " 'gr_bhtreelimangle': 0.5,\n",
       " 'gr_bhtreemaxcellmass': 9.9999999999999997e+98,\n",
       " 'gr_bhtreemincellmass': 1e-99,\n",
       " 'gr_bhtreesafebox': 1.2,\n",
       " 'gr_lrefinemaxredlogbase': 10.0,\n",
       " 'gr_lrefinemaxredradiusfact': 0.0,\n",
       " 'gr_lrefinemaxredtimescale': 1.0,\n",
       " 'gr_lrefinemaxredtref': 0.0,\n",
       " 'gr_lrefmaxtime_1': -1.0,\n",
       " 'gr_lrefmaxtime_10': -1.0,\n",
       " 'gr_lrefmaxtime_11': -1.0,\n",
       " 'gr_lrefmaxtime_12': -1.0,\n",
       " 'gr_lrefmaxtime_13': -1.0,\n",
       " 'gr_lrefmaxtime_14': -1.0,\n",
       " 'gr_lrefmaxtime_15': -1.0,\n",
       " 'gr_lrefmaxtime_16': -1.0,\n",
       " 'gr_lrefmaxtime_17': -1.0,\n",
       " 'gr_lrefmaxtime_18': -1.0,\n",
       " 'gr_lrefmaxtime_19': -1.0,\n",
       " 'gr_lrefmaxtime_2': -1.0,\n",
       " 'gr_lrefmaxtime_20': -1.0,\n",
       " 'gr_lrefmaxtime_3': -1.0,\n",
       " 'gr_lrefmaxtime_4': -1.0,\n",
       " 'gr_lrefmaxtime_5': -1.0,\n",
       " 'gr_lrefmaxtime_6': -1.0,\n",
       " 'gr_lrefmaxtime_7': -1.0,\n",
       " 'gr_lrefmaxtime_8': -1.0,\n",
       " 'gr_lrefmaxtime_9': -1.0,\n",
       " 'grv_bhaccerr': 0.050000000000000003,\n",
       " 'grv_bhextrnpotcenterx': 0.0,\n",
       " 'grv_bhextrnpotcentery': 0.0,\n",
       " 'grv_bhextrnpotcenterz': 0.0,\n",
       " 'grv_bhnewton': -1.0,\n",
       " 'hall_parameter': 0.0,\n",
       " 'hyperresistivity': 0.0,\n",
       " 'mag_field_x': 0.0,\n",
       " 'mag_field_y': 0.0,\n",
       " 'mag_field_z': 0.0,\n",
       " 'nusts': 0.10000000000000001,\n",
       " 'plotfileintervaltime': 31550000000000.0,\n",
       " 'plotfileintervalz': 1.7976931348623157e+308,\n",
       " 'point_mass': 0.0,\n",
       " 'point_mass_rsoft': 0.0,\n",
       " 'refine_cutoff_1': 0.80000000000000004,\n",
       " 'refine_cutoff_2': 0.80000000000000004,\n",
       " 'refine_cutoff_3': 0.80000000000000004,\n",
       " 'refine_cutoff_4': 0.80000000000000004,\n",
       " 'refine_filter_1': 0.01,\n",
       " 'refine_filter_2': 0.01,\n",
       " 'refine_filter_3': 0.01,\n",
       " 'refine_filter_4': 0.01,\n",
       " 'rho_ambient': 5.0000000000000002e-26,\n",
       " 'rss_limit': -1.0,\n",
       " 'sim_a_i': -1.0,\n",
       " 'sim_a_n': -1.0,\n",
       " 'sim_gamma_i': 1.6667000000000001,\n",
       " 'sim_gamma_n': 1.6667000000000001,\n",
       " 'sim_init_co': 0.0,\n",
       " 'sim_init_h2': 0.0,\n",
       " 'sim_init_hp': 1.0,\n",
       " 'small': 1e-10,\n",
       " 'smalle': 1e-50,\n",
       " 'smallp': 1e-50,\n",
       " 'smallt': 1.0000000000000001e-15,\n",
       " 'smallu': 1e-10,\n",
       " 'smallx': 1e-10,\n",
       " 'smlrho': 1e-50,\n",
       " 'soundspeed_kms': 150.0,\n",
       " 'st_dekin_input_rate': 0.0,\n",
       " 'st_dvel_fixed_factor': 1.0,\n",
       " 'st_dvel_fraction': 0.10000000000000001,\n",
       " 'st_dvel_max_ampli': 200.0,\n",
       " 'st_lbox': -1.0,\n",
       " 'st_rms_velocity': 15000000.0,\n",
       " 'st_tmax': 31500000000000000.0,\n",
       " 'ste_autocor_time': 1.0,\n",
       " 'stl_f0': 6.4500000000000005e-10,\n",
       " 'stl_g0': 1.0,\n",
       " 'stl_kmax': 2.0,\n",
       " 'stl_kmin': 1.0,\n",
       " 'stl_tac': 3150000000000.0,\n",
       " 'stl_zeta': 0.5,\n",
       " 'tinitial': 0.0,\n",
       " 'tmax': 1.6e+20,\n",
       " 'tr_bhmaxdist': 9.9999999999999997e+98,\n",
       " 'tr_bhrayradres': 1.0,\n",
       " 'tr_bhrelerr': 0.01,\n",
       " 'tr_odcdtoindex': 1.0,\n",
       " 'tr_odmaxdist': 9.9999999999999997e+98,\n",
       " 'tstep_change_factor': 2.0,\n",
       " 'wall_clock_checkpoint': 0.0,\n",
       " 'wall_clock_time_limit': 846000.0,\n",
       " 'x_refine_center': 0.0,\n",
       " 'xmax': 1.5430000000000001e+22,\n",
       " 'xmin': 0.0,\n",
       " 'y_refine_center': 0.0,\n",
       " 'ymax': 1.5430000000000001e+22,\n",
       " 'ymin': 0.0,\n",
       " 'z_refine_center': 0.0,\n",
       " 'zfinal': 0.0,\n",
       " 'zinitial': -1.0,\n",
       " 'zmax': 1.5430000000000001e+22,\n",
       " 'zmin': 0.0}"
      ]
     },
     "execution_count": 126,
     "metadata": {},
     "output_type": "execute_result"
    }
   ],
   "source": [
    "fh.realruntime"
   ]
  },
  {
   "cell_type": "code",
   "execution_count": 127,
   "metadata": {},
   "outputs": [
    {
     "data": {
      "text/plain": [
       "array([  3.85750000e+21,   3.85750000e+21,   3.85750000e+21], dtype=float32)"
      ]
     },
     "execution_count": 127,
     "metadata": {},
     "output_type": "execute_result"
    }
   ],
   "source": [
    "coords[1]"
   ]
  },
  {
   "cell_type": "code",
   "execution_count": 61,
   "metadata": {},
   "outputs": [
    {
     "ename": "IndexError",
     "evalue": "only integers, slices (`:`), ellipsis (`...`), numpy.newaxis (`None`) and integer or boolean arrays are valid indices",
     "output_type": "error",
     "traceback": [
      "\u001b[0;31m---------------------------------------------------------------------------\u001b[0m",
      "\u001b[0;31mIndexError\u001b[0m                                Traceback (most recent call last)",
      "\u001b[0;32m<ipython-input-61-0f66cde7fa91>\u001b[0m in \u001b[0;36m<module>\u001b[0;34m()\u001b[0m\n\u001b[1;32m     10\u001b[0m \u001b[0;32mfor\u001b[0m \u001b[0midx\u001b[0m\u001b[0;34m,\u001b[0m\u001b[0mI\u001b[0m \u001b[0;32min\u001b[0m \u001b[0mzip\u001b[0m\u001b[0;34m(\u001b[0m\u001b[0mnp\u001b[0m\u001b[0;34m.\u001b[0m\u001b[0mwhere\u001b[0m\u001b[0;34m(\u001b[0m\u001b[0mself\u001b[0m\u001b[0;34m.\u001b[0m\u001b[0mrefine_levels\u001b[0m \u001b[0;34m==\u001b[0m \u001b[0mrl\u001b[0m\u001b[0;34m)\u001b[0m\u001b[0;34m[\u001b[0m\u001b[0;36m0\u001b[0m\u001b[0;34m]\u001b[0m\u001b[0;34m,\u001b[0m \u001b[0mccc\u001b[0m\u001b[0;34m)\u001b[0m\u001b[0;34m:\u001b[0m\u001b[0;34m\u001b[0m\u001b[0m\n\u001b[1;32m     11\u001b[0m     \u001b[0;31m#I = coo2idx(coords[idx])\u001b[0m\u001b[0;34m\u001b[0m\u001b[0;34m\u001b[0m\u001b[0m\n\u001b[0;32m---> 12\u001b[0;31m     \u001b[0mbox\u001b[0m\u001b[0;34m[\u001b[0m\u001b[0;34m[\u001b[0m\u001b[0mslice\u001b[0m\u001b[0;34m(\u001b[0m\u001b[0;34m*\u001b[0m\u001b[0mi\u001b[0m\u001b[0;34m)\u001b[0m \u001b[0;32mfor\u001b[0m \u001b[0mi\u001b[0m \u001b[0;32min\u001b[0m \u001b[0mI\u001b[0m\u001b[0;34m]\u001b[0m\u001b[0;34m]\u001b[0m \u001b[0;34m=\u001b[0m \u001b[0mblocks\u001b[0m\u001b[0;34m[\u001b[0m\u001b[0midx\u001b[0m\u001b[0;34m]\u001b[0m\u001b[0;34m.\u001b[0m\u001b[0mtranspose\u001b[0m\u001b[0;34m(\u001b[0m\u001b[0;34m(\u001b[0m\u001b[0;36m2\u001b[0m\u001b[0;34m,\u001b[0m\u001b[0;36m1\u001b[0m\u001b[0;34m,\u001b[0m\u001b[0;36m0\u001b[0m\u001b[0;34m)\u001b[0m\u001b[0;34m)\u001b[0m\u001b[0;34m\u001b[0m\u001b[0m\n\u001b[0m",
      "\u001b[0;31mIndexError\u001b[0m: only integers, slices (`:`), ellipsis (`...`), numpy.newaxis (`None`) and integer or boolean arrays are valid indices"
     ]
    }
   ],
   "source": [
    "#box = None\n",
    "rl = 4\n",
    "dname = 'dens'\n",
    "blocks = fh.get(dname)\n",
    "coords = fh.get('coordinates')\n",
    "\n",
    "box = np.zeros(self.calc_gridsize(rl)) if box is None else ulz.zoom_array(box, factor=2)\n",
    "ccc = coo2idx(coords[(fh.refine_levels == rl).repeat(3).reshape(-1,3)].reshape(-1,3))\n",
    "\n",
    "for idx,I in zip(np.where(self.refine_levels == rl)[0], ccc):\n",
    "    #I = coo2idx(coords[idx])\n",
    "    box[[slice(*i) for i in I]] = blocks[idx].transpose((2,1,0))"
   ]
  },
  {
   "cell_type": "code",
   "execution_count": 95,
   "metadata": {},
   "outputs": [
    {
     "name": "stdout",
     "output_type": "stream",
     "text": [
      "(2, 248433, 3)\n"
     ]
    },
    {
     "data": {
      "text/plain": [
       "(3,)"
      ]
     },
     "execution_count": 95,
     "metadata": {},
     "output_type": "execute_result"
    }
   ],
   "source": [
    "foo = coo2idx(coords)\n",
    "print(foo.shape)\n",
    "foo[0,1,:].shape"
   ]
  },
  {
   "cell_type": "code",
   "execution_count": 123,
   "metadata": {},
   "outputs": [
    {
     "data": {
      "text/plain": [
       "(248433, 8, 8, 8)"
      ]
     },
     "execution_count": 123,
     "metadata": {},
     "output_type": "execute_result"
    }
   ],
   "source": [
    "blocks = self.get(dname).value.shape\n",
    "blocks"
   ]
  },
  {
   "cell_type": "code",
   "execution_count": 28,
   "metadata": {},
   "outputs": [
    {
     "name": "stdout",
     "output_type": "stream",
     "text": [
      "(8, 8, 8)\n",
      "(16, 16, 16)\n",
      "(32, 32, 32)\n",
      "(64, 64, 64)\n",
      "(128, 128, 128)\n",
      "(256, 256, 256)\n",
      "(512, 512, 512)\n"
     ]
    }
   ],
   "source": [
    "box = None\n",
    "dname = 'dens'\n",
    "blocks = self.get(dname)\n",
    "coords = self.get('coordinates')\n",
    "\n",
    "for rl in np.unique(self.refine_levels):\n",
    "    box = np.zeros(self.calc_gridsize(rl)) if box is None else ulz.zoom_array(box, factor=2)\n",
    "    cc = coords[(fh.refine_levels == rl).repeat(3).reshape(-1,3)].reshape(-1,3)\n",
    "    coo2idx(cc)\n",
    "\n",
    "    for idx in np.where(self.refine_levels == rl)[0]:\n",
    "        I = coo2idx(coords[idx])\n",
    "        box[[slice(*i) for i in I]] = blocks[idx].transpose((2,1,0))\n",
    "        \n",
    "    print(box.shape,flush=True)"
   ]
  },
  {
   "cell_type": "code",
   "execution_count": 21,
   "metadata": {},
   "outputs": [
    {
     "data": {
      "text/plain": [
       "16816"
      ]
     },
     "execution_count": 21,
     "metadata": {},
     "output_type": "execute_result"
    }
   ],
   "source": [
    "box = None\n",
    "rl = 7\n",
    "box = np.zeros(self.calc_gridsize(rl)) if box is None else ulz.zoom_array(box, factor=2)\n",
    "ll = list(mkBlkIt(rl))\n",
    "len(ll)"
   ]
  },
  {
   "cell_type": "code",
   "execution_count": 20,
   "metadata": {
    "collapsed": true
   },
   "outputs": [],
   "source": [
    "rlevel  = None\n",
    "dname   = 'dens'\n",
    "box     = None\n",
    "coo2pos = lambda co: np.round((co-self.domain[0])/self.domsize*np.array(box.shape)).astype(np.int)\n",
    "pos2idx = lambda ps: np.array((ps-self.blocksize//2,ps+self.blocksize//2)).T\n",
    "coo2idx = lambda co: pos2idx(coo2pos(co))\n",
    "mkBlkIt = lambda RL: ((coo2idx(co),bid) for (rl,co,bl) \n",
    "                        in zip(self.refine_levels, self.coords, self.get(dname)) if rl == RL)"
   ]
  },
  {
   "cell_type": "code",
   "execution_count": 5,
   "metadata": {},
   "outputs": [
    {
     "name": "stdout",
     "output_type": "stream",
     "text": [
      "(8, 8, 8)\n",
      "(16, 16, 16)\n",
      "(32, 32, 32)\n",
      "(64, 64, 64)\n",
      "(128, 128, 128)\n",
      "(256, 256, 256)\n",
      "(512, 512, 512)\n"
     ]
    }
   ],
   "source": [
    "for rl in np.unique(self.refine_levels) if rlevel is None else (rlevel,):\n",
    "    box = np.zeros(self.calc_gridsize(rl)) if box is None else ulz.zoom_array(box, factor=2)\n",
    "    for idx,block in mkBlkIt(rl):\n",
    "        \n",
    "        box[[slice(*i) for i in idx]] = block.transpose((2,1,0))\n",
    "    print(box.shape)"
   ]
  },
  {
   "cell_type": "code",
   "execution_count": 20,
   "metadata": {},
   "outputs": [
    {
     "ename": "KeyboardInterrupt",
     "evalue": "",
     "output_type": "error",
     "traceback": [
      "\u001b[0;31m---------------------------------------------------------------------------\u001b[0m",
      "\u001b[0;31mKeyboardInterrupt\u001b[0m                         Traceback (most recent call last)",
      "\u001b[0;32m<ipython-input-20-c4a0f92e74eb>\u001b[0m in \u001b[0;36m<module>\u001b[0;34m()\u001b[0m\n\u001b[0;32m----> 1\u001b[0;31m \u001b[0mdens\u001b[0m\u001b[0;34m,\u001b[0m\u001b[0mvelx\u001b[0m\u001b[0;34m,\u001b[0m\u001b[0mvely\u001b[0m\u001b[0;34m,\u001b[0m\u001b[0mvelz\u001b[0m\u001b[0;34m,\u001b[0m\u001b[0mpres\u001b[0m \u001b[0;34m=\u001b[0m \u001b[0mfh\u001b[0m\u001b[0;34m.\u001b[0m\u001b[0mget_prims\u001b[0m\u001b[0;34m(\u001b[0m\u001b[0;34m)\u001b[0m\u001b[0;34m\u001b[0m\u001b[0m\n\u001b[0m",
      "\u001b[0;32m/home/jmark/projects/turbubox/tools/lib/flash.py\u001b[0m in \u001b[0;36mget_prims\u001b[0;34m(self, **kwargs)\u001b[0m\n\u001b[1;32m     78\u001b[0m \u001b[0;34m\u001b[0m\u001b[0m\n\u001b[1;32m     79\u001b[0m     \u001b[0;32mdef\u001b[0m \u001b[0mget_prims\u001b[0m\u001b[0;34m(\u001b[0m\u001b[0mself\u001b[0m\u001b[0;34m,\u001b[0m \u001b[0;34m**\u001b[0m\u001b[0mkwargs\u001b[0m\u001b[0;34m)\u001b[0m\u001b[0;34m:\u001b[0m\u001b[0;34m\u001b[0m\u001b[0m\n\u001b[0;32m---> 80\u001b[0;31m         \u001b[0;32mreturn\u001b[0m \u001b[0;34m[\u001b[0m\u001b[0mself\u001b[0m\u001b[0;34m.\u001b[0m\u001b[0mget_data\u001b[0m\u001b[0;34m(\u001b[0m\u001b[0mdname\u001b[0m\u001b[0;34m,\u001b[0m \u001b[0;34m**\u001b[0m\u001b[0mkwargs\u001b[0m\u001b[0;34m)\u001b[0m \u001b[0;32mfor\u001b[0m \u001b[0mdname\u001b[0m \u001b[0;32min\u001b[0m \u001b[0;34m'dens velx vely velz pres'\u001b[0m\u001b[0;34m.\u001b[0m\u001b[0msplit\u001b[0m\u001b[0;34m(\u001b[0m\u001b[0;34m)\u001b[0m\u001b[0;34m]\u001b[0m\u001b[0;34m\u001b[0m\u001b[0m\n\u001b[0m\u001b[1;32m     81\u001b[0m \u001b[0;34m\u001b[0m\u001b[0m\n\u001b[1;32m     82\u001b[0m     \u001b[0;32mdef\u001b[0m \u001b[0mget_cons\u001b[0m\u001b[0;34m(\u001b[0m\u001b[0mself\u001b[0m\u001b[0;34m,\u001b[0m \u001b[0mgamma\u001b[0m\u001b[0;34m=\u001b[0m\u001b[0;36m5.\u001b[0m\u001b[0;34m/\u001b[0m\u001b[0;36m3.\u001b[0m\u001b[0;34m)\u001b[0m\u001b[0;34m:\u001b[0m\u001b[0;34m\u001b[0m\u001b[0m\n",
      "\u001b[0;32m/home/jmark/projects/turbubox/tools/lib/flash.py\u001b[0m in \u001b[0;36m<listcomp>\u001b[0;34m(.0)\u001b[0m\n\u001b[1;32m     78\u001b[0m \u001b[0;34m\u001b[0m\u001b[0m\n\u001b[1;32m     79\u001b[0m     \u001b[0;32mdef\u001b[0m \u001b[0mget_prims\u001b[0m\u001b[0;34m(\u001b[0m\u001b[0mself\u001b[0m\u001b[0;34m,\u001b[0m \u001b[0;34m**\u001b[0m\u001b[0mkwargs\u001b[0m\u001b[0;34m)\u001b[0m\u001b[0;34m:\u001b[0m\u001b[0;34m\u001b[0m\u001b[0m\n\u001b[0;32m---> 80\u001b[0;31m         \u001b[0;32mreturn\u001b[0m \u001b[0;34m[\u001b[0m\u001b[0mself\u001b[0m\u001b[0;34m.\u001b[0m\u001b[0mget_data\u001b[0m\u001b[0;34m(\u001b[0m\u001b[0mdname\u001b[0m\u001b[0;34m,\u001b[0m \u001b[0;34m**\u001b[0m\u001b[0mkwargs\u001b[0m\u001b[0;34m)\u001b[0m \u001b[0;32mfor\u001b[0m \u001b[0mdname\u001b[0m \u001b[0;32min\u001b[0m \u001b[0;34m'dens velx vely velz pres'\u001b[0m\u001b[0;34m.\u001b[0m\u001b[0msplit\u001b[0m\u001b[0;34m(\u001b[0m\u001b[0;34m)\u001b[0m\u001b[0;34m]\u001b[0m\u001b[0;34m\u001b[0m\u001b[0m\n\u001b[0m\u001b[1;32m     81\u001b[0m \u001b[0;34m\u001b[0m\u001b[0m\n\u001b[1;32m     82\u001b[0m     \u001b[0;32mdef\u001b[0m \u001b[0mget_cons\u001b[0m\u001b[0;34m(\u001b[0m\u001b[0mself\u001b[0m\u001b[0;34m,\u001b[0m \u001b[0mgamma\u001b[0m\u001b[0;34m=\u001b[0m\u001b[0;36m5.\u001b[0m\u001b[0;34m/\u001b[0m\u001b[0;36m3.\u001b[0m\u001b[0;34m)\u001b[0m\u001b[0;34m:\u001b[0m\u001b[0;34m\u001b[0m\u001b[0m\n",
      "\u001b[0;32m/home/jmark/projects/turbubox/tools/lib/flash.py\u001b[0m in \u001b[0;36mget_data\u001b[0;34m(self, dname, rlevel, **kwargs)\u001b[0m\n\u001b[1;32m     70\u001b[0m                 \u001b[0mI\u001b[0m \u001b[0;34m=\u001b[0m \u001b[0mcoo2idx\u001b[0m\u001b[0;34m(\u001b[0m\u001b[0mcoords\u001b[0m\u001b[0;34m[\u001b[0m\u001b[0midx\u001b[0m\u001b[0;34m]\u001b[0m\u001b[0;34m)\u001b[0m\u001b[0;34m\u001b[0m\u001b[0m\n\u001b[1;32m     71\u001b[0m                 \u001b[0mI\u001b[0m\u001b[0;34m[\u001b[0m\u001b[0mI\u001b[0m\u001b[0;34m[\u001b[0m\u001b[0;34m:\u001b[0m\u001b[0;34m,\u001b[0m\u001b[0;36m1\u001b[0m\u001b[0;34m]\u001b[0m \u001b[0;34m<\u001b[0m \u001b[0;36m1\u001b[0m\u001b[0;34m,\u001b[0m\u001b[0;36m1\u001b[0m\u001b[0;34m]\u001b[0m \u001b[0;34m=\u001b[0m \u001b[0;36m1\u001b[0m \u001b[0;31m# consider 1D or 2D case\u001b[0m\u001b[0;34m\u001b[0m\u001b[0m\n\u001b[0;32m---> 72\u001b[0;31m                 \u001b[0mbox\u001b[0m\u001b[0;34m[\u001b[0m\u001b[0;34m[\u001b[0m\u001b[0mslice\u001b[0m\u001b[0;34m(\u001b[0m\u001b[0;34m*\u001b[0m\u001b[0mi\u001b[0m\u001b[0;34m)\u001b[0m \u001b[0;32mfor\u001b[0m \u001b[0mi\u001b[0m \u001b[0;32min\u001b[0m \u001b[0mI\u001b[0m\u001b[0;34m]\u001b[0m\u001b[0;34m]\u001b[0m \u001b[0;34m=\u001b[0m \u001b[0mblocks\u001b[0m\u001b[0;34m[\u001b[0m\u001b[0midx\u001b[0m\u001b[0;34m]\u001b[0m\u001b[0;34m.\u001b[0m\u001b[0mtranspose\u001b[0m\u001b[0;34m(\u001b[0m\u001b[0;34m(\u001b[0m\u001b[0;36m2\u001b[0m\u001b[0;34m,\u001b[0m\u001b[0;36m1\u001b[0m\u001b[0;34m,\u001b[0m\u001b[0;36m0\u001b[0m\u001b[0;34m)\u001b[0m\u001b[0;34m)\u001b[0m\u001b[0;34m\u001b[0m\u001b[0m\n\u001b[0m\u001b[1;32m     73\u001b[0m \u001b[0;34m\u001b[0m\u001b[0m\n\u001b[1;32m     74\u001b[0m         \u001b[0;32mreturn\u001b[0m \u001b[0mbox\u001b[0m\u001b[0;34m\u001b[0m\u001b[0m\n",
      "\u001b[0;32mh5py/_objects.pyx\u001b[0m in \u001b[0;36mh5py._objects.with_phil.wrapper\u001b[0;34m()\u001b[0m\n",
      "\u001b[0;32mh5py/_objects.pyx\u001b[0m in \u001b[0;36mh5py._objects.with_phil.wrapper\u001b[0;34m()\u001b[0m\n",
      "\u001b[0;32m/usr/lib/python3.6/site-packages/h5py/_hl/dataset.py\u001b[0m in \u001b[0;36m__getitem__\u001b[0;34m(self, args)\u001b[0m\n\u001b[1;32m    452\u001b[0m         \u001b[0;31m# === Check for zero-sized datasets =====\u001b[0m\u001b[0;34m\u001b[0m\u001b[0;34m\u001b[0m\u001b[0m\n\u001b[1;32m    453\u001b[0m \u001b[0;34m\u001b[0m\u001b[0m\n\u001b[0;32m--> 454\u001b[0;31m         \u001b[0;32mif\u001b[0m \u001b[0mnumpy\u001b[0m\u001b[0;34m.\u001b[0m\u001b[0mproduct\u001b[0m\u001b[0;34m(\u001b[0m\u001b[0mself\u001b[0m\u001b[0;34m.\u001b[0m\u001b[0mshape\u001b[0m\u001b[0;34m)\u001b[0m \u001b[0;34m==\u001b[0m \u001b[0;36m0\u001b[0m\u001b[0;34m:\u001b[0m\u001b[0;34m\u001b[0m\u001b[0m\n\u001b[0m\u001b[1;32m    455\u001b[0m             \u001b[0;31m# These are the only access methods NumPy allows for such objects\u001b[0m\u001b[0;34m\u001b[0m\u001b[0;34m\u001b[0m\u001b[0m\n\u001b[1;32m    456\u001b[0m             \u001b[0;32mif\u001b[0m \u001b[0margs\u001b[0m \u001b[0;34m==\u001b[0m \u001b[0;34m(\u001b[0m\u001b[0mEllipsis\u001b[0m\u001b[0;34m,\u001b[0m\u001b[0;34m)\u001b[0m \u001b[0;32mor\u001b[0m \u001b[0margs\u001b[0m \u001b[0;34m==\u001b[0m \u001b[0mtuple\u001b[0m\u001b[0;34m(\u001b[0m\u001b[0;34m)\u001b[0m\u001b[0;34m:\u001b[0m\u001b[0;34m\u001b[0m\u001b[0m\n",
      "\u001b[0;32m/usr/lib/python3.6/site-packages/numpy/core/fromnumeric.py\u001b[0m in \u001b[0;36mproduct\u001b[0;34m(a, axis, dtype, out, keepdims)\u001b[0m\n\u001b[1;32m   1847\u001b[0m     \u001b[0;32mif\u001b[0m \u001b[0mkeepdims\u001b[0m \u001b[0;32mis\u001b[0m \u001b[0;32mnot\u001b[0m \u001b[0mnp\u001b[0m\u001b[0;34m.\u001b[0m\u001b[0m_NoValue\u001b[0m\u001b[0;34m:\u001b[0m\u001b[0;34m\u001b[0m\u001b[0m\n\u001b[1;32m   1848\u001b[0m         \u001b[0mkwargs\u001b[0m\u001b[0;34m[\u001b[0m\u001b[0;34m'keepdims'\u001b[0m\u001b[0;34m]\u001b[0m \u001b[0;34m=\u001b[0m \u001b[0mkeepdims\u001b[0m\u001b[0;34m\u001b[0m\u001b[0m\n\u001b[0;32m-> 1849\u001b[0;31m     \u001b[0;32mreturn\u001b[0m \u001b[0mum\u001b[0m\u001b[0;34m.\u001b[0m\u001b[0mmultiply\u001b[0m\u001b[0;34m.\u001b[0m\u001b[0mreduce\u001b[0m\u001b[0;34m(\u001b[0m\u001b[0ma\u001b[0m\u001b[0;34m,\u001b[0m \u001b[0maxis\u001b[0m\u001b[0;34m=\u001b[0m\u001b[0maxis\u001b[0m\u001b[0;34m,\u001b[0m \u001b[0mdtype\u001b[0m\u001b[0;34m=\u001b[0m\u001b[0mdtype\u001b[0m\u001b[0;34m,\u001b[0m \u001b[0mout\u001b[0m\u001b[0;34m=\u001b[0m\u001b[0mout\u001b[0m\u001b[0;34m,\u001b[0m \u001b[0;34m**\u001b[0m\u001b[0mkwargs\u001b[0m\u001b[0;34m)\u001b[0m\u001b[0;34m\u001b[0m\u001b[0m\n\u001b[0m\u001b[1;32m   1850\u001b[0m \u001b[0;34m\u001b[0m\u001b[0m\n\u001b[1;32m   1851\u001b[0m \u001b[0;34m\u001b[0m\u001b[0m\n",
      "\u001b[0;31mKeyboardInterrupt\u001b[0m: "
     ]
    }
   ],
   "source": [
    "dens,velx,vely,velz,pres = fh.get_prims()"
   ]
  },
  {
   "cell_type": "code",
   "execution_count": null,
   "metadata": {
    "collapsed": true
   },
   "outputs": [],
   "source": [
    "dpi = 100\n",
    "fig = plt.figure(1,figsize=(2*640/dpi, 480/dpi), dpi=dpi)\n",
    "    \n",
    "plt.title('density')\n",
    "plt.imshow(\n",
    "    np.log10(np.sum(pres,axis=2)),\n",
    "    #extent = extent,\n",
    "    #vmin = 0.0,\n",
    "    #vmax = 1.2,\n",
    "    origin='lower',\n",
    "    interpolation = None,\n",
    "    cmap = plt.get_cmap('cubehelix'),\n",
    ")\n",
    "plt.colorbar()"
   ]
  },
  {
   "cell_type": "code",
   "execution_count": 95,
   "metadata": {},
   "outputs": [
    {
     "data": {
      "text/plain": [
       "<matplotlib.colorbar.Colorbar at 0x7fb89db1d0f0>"
      ]
     },
     "execution_count": 95,
     "metadata": {},
     "output_type": "execute_result"
    },
    {
     "data": {
      "image/png": "[encoded data removed]",
      "text/plain": [
       "<matplotlib.figure.Figure at 0x7fb89db40668>"
      ]
     },
     "metadata": {},
     "output_type": "display_data"
    }
   ],
   "source": [
    "dpi = 100\n",
    "fig = plt.figure(1,figsize=(2*640/dpi, 480/dpi), dpi=dpi)\n",
    "    \n",
    "plt.title('density')\n",
    "plt.imshow(\n",
    "    np.log10(np.sum(box,axis=2)),\n",
    "    #extent = extent,\n",
    "    #vmin = 0.0,\n",
    "    #vmax = 1.2,\n",
    "    origin='lower',\n",
    "    interpolation = None,\n",
    "    cmap = plt.get_cmap('cubehelix'),\n",
    ")\n",
    "plt.colorbar()"
   ]
  },
  {
   "cell_type": "code",
   "execution_count": 85,
   "metadata": {
    "collapsed": true
   },
   "outputs": [],
   "source": [
    "def zoom_array(arr,factor=2):\n",
    "    return arr.repeat(factor).reshape(arr.shape[0],-1).repeat(factor,0)\n",
    "\n",
    "def zoom_array(arr,factor=2):\n",
    "    retv = arr\n",
    "    for i in range(len(retv.shape)): retv = retv.repeat(factor,axis=i)\n",
    "    return retv"
   ]
  },
  {
   "cell_type": "code",
   "execution_count": 68,
   "metadata": {
    "collapsed": true
   },
   "outputs": [],
   "source": [
    "A = np.arange(0,27).reshape(3,3,3)"
   ]
  },
  {
   "cell_type": "code",
   "execution_count": 86,
   "metadata": {},
   "outputs": [
    {
     "data": {
      "text/plain": [
       "(6, 6)"
      ]
     },
     "execution_count": 86,
     "metadata": {},
     "output_type": "execute_result"
    }
   ],
   "source": [
    "zoom_array(A).shape"
   ]
  },
  {
   "cell_type": "code",
   "execution_count": 81,
   "metadata": {},
   "outputs": [
    {
     "data": {
      "text/plain": [
       "array([[0, 1, 2],\n",
       "       [3, 4, 5],\n",
       "       [6, 7, 8]])"
      ]
     },
     "execution_count": 81,
     "metadata": {},
     "output_type": "execute_result"
    }
   ],
   "source": [
    "A = np.arange(0,9).reshape(3,3)\n",
    "A"
   ]
  },
  {
   "cell_type": "code",
   "execution_count": 84,
   "metadata": {},
   "outputs": [
    {
     "data": {
      "text/plain": [
       "array([[0, 0, 0, 1, 1, 1, 2, 2, 2],\n",
       "       [0, 0, 0, 1, 1, 1, 2, 2, 2],\n",
       "       [0, 0, 0, 1, 1, 1, 2, 2, 2],\n",
       "       [3, 3, 3, 4, 4, 4, 5, 5, 5],\n",
       "       [3, 3, 3, 4, 4, 4, 5, 5, 5],\n",
       "       [3, 3, 3, 4, 4, 4, 5, 5, 5],\n",
       "       [6, 6, 6, 7, 7, 7, 8, 8, 8],\n",
       "       [6, 6, 6, 7, 7, 7, 8, 8, 8],\n",
       "       [6, 6, 6, 7, 7, 7, 8, 8, 8]])"
      ]
     },
     "execution_count": 84,
     "metadata": {},
     "output_type": "execute_result"
    }
   ],
   "source": [
    "B = A\n",
    "factor = 3\n",
    "for i in range(len(B.shape)): B = B.repeat(factor,axis=i)\n",
    "B"
   ]
  },
  {
   "cell_type": "code",
   "execution_count": null,
   "metadata": {
    "collapsed": true
   },
   "outputs": [],
   "source": []
  }
 ],
 "metadata": {
  "kernelspec": {
   "display_name": "Python 3",
   "language": "python",
   "name": "python3"
  },
  "language_info": {
   "codemirror_mode": {
    "name": "ipython",
    "version": 3
   },
   "file_extension": ".py",
   "mimetype": "text/x-python",
   "name": "python",
   "nbconvert_exporter": "python",
   "pygments_lexer": "ipython3",
   "version": "3.6.5"
  }
 },
 "nbformat": 4,
 "nbformat_minor": 2
}
